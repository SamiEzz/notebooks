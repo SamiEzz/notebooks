{
  "nbformat": 4,
  "nbformat_minor": 0,
  "metadata": {
    "colab": {
      "name": "ASIC.OR.GPU.ipynb",
      "provenance": [],
      "collapsed_sections": [],
      "authorship_tag": "ABX9TyNuL1PMmwwtCuJDAx51yYJs",
      "include_colab_link": true
    },
    "kernelspec": {
      "name": "python3",
      "display_name": "Python 3"
    },
    "language_info": {
      "name": "python"
    }
  },
  "cells": [
    {
      "cell_type": "markdown",
      "metadata": {
        "id": "view-in-github",
        "colab_type": "text"
      },
      "source": [
        "<a href=\"https://colab.research.google.com/github/SamiEzz/notebooks/blob/main/GBMining/ASIC_OR_GPU.ipynb\" target=\"_parent\"><img src=\"https://colab.research.google.com/assets/colab-badge.svg\" alt=\"Open In Colab\"/></a>"
      ]
    },
    {
      "cell_type": "markdown",
      "source": [
        "# Purpose\n",
        "The aim of this notebook is to provide more clarity about which technology to use for mining either ASIC or Heavily armed GPU comupters. "
      ],
      "metadata": {
        "id": "NGgLft0i1Dbn"
      }
    },
    {
      "cell_type": "markdown",
      "source": [
        "# Import libs\n"
      ],
      "metadata": {
        "id": "tR118l0Xytt7"
      }
    },
    {
      "cell_type": "code",
      "execution_count": 53,
      "metadata": {
        "id": "3FpXbx4Ox5XH"
      },
      "outputs": [],
      "source": [
        "import pandas as pd\n",
        "import re"
      ]
    },
    {
      "cell_type": "markdown",
      "source": [
        "# Functions"
      ],
      "metadata": {
        "id": "pQEquzbjy1Lh"
      }
    },
    {
      "cell_type": "code",
      "source": [
        "def getMiners():\n",
        "  table_MN = pd.read_html('https://www.asicminervalue.com/')\n",
        "  return table_MN[0]\n",
        "\n",
        "def lmabdaCleanPrice(x):\n",
        "  return float(x[x.find('$')+1:x.find('.')+3])\n",
        "\n",
        "def getBuyingOp():\n",
        "  table_MN = pd.read_html('https://www.asicminervalue.com/opportunities')\n",
        "  # Clean NaN ciol\n",
        "  table_MN[0].drop('Store',inplace=True,axis=1)\n",
        "  table_MN[0].drop('Unnamed: 8',inplace=True,axis=1)\n",
        "  \n",
        "  # clean Price col\n",
        "  table_MN[0]['Currency']=table_MN[0]['Price'].apply(lambda x: \"USD\" if x.find('$')>=0 else x)\n",
        "  table_MN[0]['Price']=table_MN[0]['Price'].apply(lambda x: lmabdaCleanPrice(x))\n",
        "  # Clean Vendor\n",
        "  table_MN[0].rename(columns={'Unnamed: 2': 'Vendor'}, inplace=True)\n",
        "  table_MN[0]['Vendor']=table_MN[0]['Vendor'].apply(lambda x: x[:x.find('Trusted vendor')])\n",
        "  \n",
        "  return table_MN[0]"
      ],
      "metadata": {
        "id": "-sxGhGj8yKx_"
      },
      "execution_count": 64,
      "outputs": []
    },
    {
      "cell_type": "markdown",
      "source": [
        "# Get Miners"
      ],
      "metadata": {
        "id": "CPPLw2LbyxQd"
      }
    },
    {
      "cell_type": "code",
      "source": [
        "getMiners()"
      ],
      "metadata": {
        "id": "Ph9rJFNJyLPe"
      },
      "execution_count": null,
      "outputs": []
    },
    {
      "cell_type": "code",
      "source": [
        "k = getBuyingOp()"
      ],
      "metadata": {
        "id": "lKPbAJr1yX6u"
      },
      "execution_count": 62,
      "outputs": []
    },
    {
      "cell_type": "code",
      "source": [
        "k"
      ],
      "metadata": {
        "colab": {
          "base_uri": "https://localhost:8080/",
          "height": 655
        },
        "id": "GwxqNSCBzikm",
        "outputId": "4fc68e22-9754-4934-89a6-0241996607c7"
      },
      "execution_count": 65,
      "outputs": [
        {
          "output_type": "execute_result",
          "data": {
            "text/html": [
              "\n",
              "  <div id=\"df-394ad002-3fc5-4b90-8e56-03be3e83c63b\">\n",
              "    <div class=\"colab-df-container\">\n",
              "      <div>\n",
              "<style scoped>\n",
              "    .dataframe tbody tr th:only-of-type {\n",
              "        vertical-align: middle;\n",
              "    }\n",
              "\n",
              "    .dataframe tbody tr th {\n",
              "        vertical-align: top;\n",
              "    }\n",
              "\n",
              "    .dataframe thead th {\n",
              "        text-align: right;\n",
              "    }\n",
              "</style>\n",
              "<table border=\"1\" class=\"dataframe\">\n",
              "  <thead>\n",
              "    <tr style=\"text-align: right;\">\n",
              "      <th></th>\n",
              "      <th>Date</th>\n",
              "      <th>Vendor</th>\n",
              "      <th>Product</th>\n",
              "      <th>Price</th>\n",
              "      <th>Delivery</th>\n",
              "      <th>ROI</th>\n",
              "      <th>Risk</th>\n",
              "      <th>Currency</th>\n",
              "    </tr>\n",
              "  </thead>\n",
              "  <tbody>\n",
              "    <tr>\n",
              "      <th>0</th>\n",
              "      <td>23/06/21</td>\n",
              "      <td>AKMiner</td>\n",
              "      <td>Antminer L7 (9.16Gh)Bitmain</td>\n",
              "      <td>24,459.00</td>\n",
              "      <td>Pre-order(Dec 2021)</td>\n",
              "      <td>389 days12.9 mo.</td>\n",
              "      <td>Tested</td>\n",
              "      <td>USD</td>\n",
              "    </tr>\n",
              "    <tr>\n",
              "      <th>1</th>\n",
              "      <td>23/09/21</td>\n",
              "      <td>AsicMinerMarket</td>\n",
              "      <td>Antminer L7 (9.16Gh)Bitmain</td>\n",
              "      <td>24,500.00</td>\n",
              "      <td>Pre-order(Dec 2021)</td>\n",
              "      <td>389 days12.9 mo.</td>\n",
              "      <td>Tested</td>\n",
              "      <td>USD</td>\n",
              "    </tr>\n",
              "    <tr>\n",
              "      <th>2</th>\n",
              "      <td>11/08/21</td>\n",
              "      <td>BT-Miners</td>\n",
              "      <td>Antminer L7 (9.16Gh)Bitmain</td>\n",
              "      <td>23,999.00</td>\n",
              "      <td>Pre-order(Jan 2022)</td>\n",
              "      <td>389 days12.9 mo.</td>\n",
              "      <td>Tested</td>\n",
              "      <td>USD</td>\n",
              "    </tr>\n",
              "    <tr>\n",
              "      <th>3</th>\n",
              "      <td>21/12/21</td>\n",
              "      <td>MillionMiner</td>\n",
              "      <td>Antminer L7 (9.16Gh)Bitmain</td>\n",
              "      <td>26,488.40</td>\n",
              "      <td>Pre-order(Dec 2021)</td>\n",
              "      <td>421 days14 mo.</td>\n",
              "      <td>Tested</td>\n",
              "      <td>USD</td>\n",
              "    </tr>\n",
              "    <tr>\n",
              "      <th>4</th>\n",
              "      <td>08/11/21</td>\n",
              "      <td>Mining Store 5111</td>\n",
              "      <td>Antminer L7 (9.5Gh)Bitmain</td>\n",
              "      <td>28,000.00</td>\n",
              "      <td>Pre-order(Dec 2021)</td>\n",
              "      <td>427 days14.2 mo.</td>\n",
              "      <td>Tested</td>\n",
              "      <td>USD</td>\n",
              "    </tr>\n",
              "    <tr>\n",
              "      <th>...</th>\n",
              "      <td>...</td>\n",
              "      <td>...</td>\n",
              "      <td>...</td>\n",
              "      <td>...</td>\n",
              "      <td>...</td>\n",
              "      <td>...</td>\n",
              "      <td>...</td>\n",
              "      <td>...</td>\n",
              "    </tr>\n",
              "    <tr>\n",
              "      <th>75</th>\n",
              "      <td>30/06/21</td>\n",
              "      <td>BT-Miners</td>\n",
              "      <td>Antminer Z15Bitmain</td>\n",
              "      <td>9,500.00</td>\n",
              "      <td>Used</td>\n",
              "      <td>976 days32.5 mo.</td>\n",
              "      <td>Tested</td>\n",
              "      <td>USD</td>\n",
              "    </tr>\n",
              "    <tr>\n",
              "      <th>76</th>\n",
              "      <td>17/01/22</td>\n",
              "      <td>Mining Store 5111</td>\n",
              "      <td>LT6Goldshell</td>\n",
              "      <td>16,999.00</td>\n",
              "      <td>In stock</td>\n",
              "      <td>978 days32.6 mo.</td>\n",
              "      <td>Tested</td>\n",
              "      <td>USD</td>\n",
              "    </tr>\n",
              "    <tr>\n",
              "      <th>77</th>\n",
              "      <td>11/01/22</td>\n",
              "      <td>PoPMiner</td>\n",
              "      <td>LT5Goldshell</td>\n",
              "      <td>9,968.45</td>\n",
              "      <td>In stock(21 days)</td>\n",
              "      <td>990 days33 mo.</td>\n",
              "      <td>Tested</td>\n",
              "      <td>USD</td>\n",
              "    </tr>\n",
              "    <tr>\n",
              "      <th>78</th>\n",
              "      <td>14/12/21</td>\n",
              "      <td>AsicMinerMarket</td>\n",
              "      <td>T3+ 52TInnosilicon</td>\n",
              "      <td>2,650.00</td>\n",
              "      <td>In stock(7 days)</td>\n",
              "      <td>994 days33.1 mo.</td>\n",
              "      <td>Tested</td>\n",
              "      <td>USD</td>\n",
              "    </tr>\n",
              "    <tr>\n",
              "      <th>79</th>\n",
              "      <td>08/08/21</td>\n",
              "      <td>AsicMarketPlace</td>\n",
              "      <td>Antminer L3+ (504Mh)Bitmain</td>\n",
              "      <td>1,678.00</td>\n",
              "      <td>Used(10 days)</td>\n",
              "      <td>999 days33.3 mo.</td>\n",
              "      <td>Tested</td>\n",
              "      <td>USD</td>\n",
              "    </tr>\n",
              "  </tbody>\n",
              "</table>\n",
              "<p>80 rows × 8 columns</p>\n",
              "</div>\n",
              "      <button class=\"colab-df-convert\" onclick=\"convertToInteractive('df-394ad002-3fc5-4b90-8e56-03be3e83c63b')\"\n",
              "              title=\"Convert this dataframe to an interactive table.\"\n",
              "              style=\"display:none;\">\n",
              "        \n",
              "  <svg xmlns=\"http://www.w3.org/2000/svg\" height=\"24px\"viewBox=\"0 0 24 24\"\n",
              "       width=\"24px\">\n",
              "    <path d=\"M0 0h24v24H0V0z\" fill=\"none\"/>\n",
              "    <path d=\"M18.56 5.44l.94 2.06.94-2.06 2.06-.94-2.06-.94-.94-2.06-.94 2.06-2.06.94zm-11 1L8.5 8.5l.94-2.06 2.06-.94-2.06-.94L8.5 2.5l-.94 2.06-2.06.94zm10 10l.94 2.06.94-2.06 2.06-.94-2.06-.94-.94-2.06-.94 2.06-2.06.94z\"/><path d=\"M17.41 7.96l-1.37-1.37c-.4-.4-.92-.59-1.43-.59-.52 0-1.04.2-1.43.59L10.3 9.45l-7.72 7.72c-.78.78-.78 2.05 0 2.83L4 21.41c.39.39.9.59 1.41.59.51 0 1.02-.2 1.41-.59l7.78-7.78 2.81-2.81c.8-.78.8-2.07 0-2.86zM5.41 20L4 18.59l7.72-7.72 1.47 1.35L5.41 20z\"/>\n",
              "  </svg>\n",
              "      </button>\n",
              "      \n",
              "  <style>\n",
              "    .colab-df-container {\n",
              "      display:flex;\n",
              "      flex-wrap:wrap;\n",
              "      gap: 12px;\n",
              "    }\n",
              "\n",
              "    .colab-df-convert {\n",
              "      background-color: #E8F0FE;\n",
              "      border: none;\n",
              "      border-radius: 50%;\n",
              "      cursor: pointer;\n",
              "      display: none;\n",
              "      fill: #1967D2;\n",
              "      height: 32px;\n",
              "      padding: 0 0 0 0;\n",
              "      width: 32px;\n",
              "    }\n",
              "\n",
              "    .colab-df-convert:hover {\n",
              "      background-color: #E2EBFA;\n",
              "      box-shadow: 0px 1px 2px rgba(60, 64, 67, 0.3), 0px 1px 3px 1px rgba(60, 64, 67, 0.15);\n",
              "      fill: #174EA6;\n",
              "    }\n",
              "\n",
              "    [theme=dark] .colab-df-convert {\n",
              "      background-color: #3B4455;\n",
              "      fill: #D2E3FC;\n",
              "    }\n",
              "\n",
              "    [theme=dark] .colab-df-convert:hover {\n",
              "      background-color: #434B5C;\n",
              "      box-shadow: 0px 1px 3px 1px rgba(0, 0, 0, 0.15);\n",
              "      filter: drop-shadow(0px 1px 2px rgba(0, 0, 0, 0.3));\n",
              "      fill: #FFFFFF;\n",
              "    }\n",
              "  </style>\n",
              "\n",
              "      <script>\n",
              "        const buttonEl =\n",
              "          document.querySelector('#df-394ad002-3fc5-4b90-8e56-03be3e83c63b button.colab-df-convert');\n",
              "        buttonEl.style.display =\n",
              "          google.colab.kernel.accessAllowed ? 'block' : 'none';\n",
              "\n",
              "        async function convertToInteractive(key) {\n",
              "          const element = document.querySelector('#df-394ad002-3fc5-4b90-8e56-03be3e83c63b');\n",
              "          const dataTable =\n",
              "            await google.colab.kernel.invokeFunction('convertToInteractive',\n",
              "                                                     [key], {});\n",
              "          if (!dataTable) return;\n",
              "\n",
              "          const docLinkHtml = 'Like what you see? Visit the ' +\n",
              "            '<a target=\"_blank\" href=https://colab.research.google.com/notebooks/data_table.ipynb>data table notebook</a>'\n",
              "            + ' to learn more about interactive tables.';\n",
              "          element.innerHTML = '';\n",
              "          dataTable['output_type'] = 'display_data';\n",
              "          await google.colab.output.renderOutput(dataTable, element);\n",
              "          const docLink = document.createElement('div');\n",
              "          docLink.innerHTML = docLinkHtml;\n",
              "          element.appendChild(docLink);\n",
              "        }\n",
              "      </script>\n",
              "    </div>\n",
              "  </div>\n",
              "  "
            ],
            "text/plain": [
              "        Date             Vendor  ...    Risk Currency\n",
              "0   23/06/21            AKMiner  ...  Tested      USD\n",
              "1   23/09/21    AsicMinerMarket  ...  Tested      USD\n",
              "2   11/08/21          BT-Miners  ...  Tested      USD\n",
              "3   21/12/21       MillionMiner  ...  Tested      USD\n",
              "4   08/11/21  Mining Store 5111  ...  Tested      USD\n",
              "..       ...                ...  ...     ...      ...\n",
              "75  30/06/21          BT-Miners  ...  Tested      USD\n",
              "76  17/01/22  Mining Store 5111  ...  Tested      USD\n",
              "77  11/01/22           PoPMiner  ...  Tested      USD\n",
              "78  14/12/21    AsicMinerMarket  ...  Tested      USD\n",
              "79  08/08/21    AsicMarketPlace  ...  Tested      USD\n",
              "\n",
              "[80 rows x 8 columns]"
            ]
          },
          "metadata": {},
          "execution_count": 65
        }
      ]
    },
    {
      "cell_type": "code",
      "source": [
        ""
      ],
      "metadata": {
        "id": "z66IqSqN4Tlv"
      },
      "execution_count": null,
      "outputs": []
    }
  ]
}