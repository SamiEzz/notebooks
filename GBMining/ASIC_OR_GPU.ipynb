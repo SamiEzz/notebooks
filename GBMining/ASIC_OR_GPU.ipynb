{
  "nbformat": 4,
  "nbformat_minor": 0,
  "metadata": {
    "colab": {
      "name": "ASIC.OR.GPU.ipynb",
      "provenance": [],
      "collapsed_sections": [],
      "authorship_tag": "ABX9TyMaIa3WQN7VRM7BG1knSPyB",
      "include_colab_link": true
    },
    "kernelspec": {
      "name": "python3",
      "display_name": "Python 3"
    },
    "language_info": {
      "name": "python"
    }
  },
  "cells": [
    {
      "cell_type": "markdown",
      "metadata": {
        "id": "view-in-github",
        "colab_type": "text"
      },
      "source": [
        "<a href=\"https://colab.research.google.com/github/SamiEzz/notebooks/blob/main/GBMining/ASIC_OR_GPU.ipynb\" target=\"_parent\"><img src=\"https://colab.research.google.com/assets/colab-badge.svg\" alt=\"Open In Colab\"/></a>"
      ]
    },
    {
      "cell_type": "markdown",
      "source": [
        "# Purpose\n",
        "The aim of this notebook is to provide more clarity about which technology to use for mining either ASIC or Heavily armed GPU comupters. "
      ],
      "metadata": {
        "id": "NGgLft0i1Dbn"
      }
    },
    {
      "cell_type": "markdown",
      "source": [
        "# Import libs\n"
      ],
      "metadata": {
        "id": "tR118l0Xytt7"
      }
    },
    {
      "cell_type": "code",
      "execution_count": 1,
      "metadata": {
        "id": "3FpXbx4Ox5XH"
      },
      "outputs": [],
      "source": [
        "import pandas as pd\n"
      ]
    },
    {
      "cell_type": "markdown",
      "source": [
        "# Functions"
      ],
      "metadata": {
        "id": "pQEquzbjy1Lh"
      }
    },
    {
      "cell_type": "code",
      "source": [
        "def getMiners():\n",
        "  table_MN = pd.read_html('https://www.asicminervalue.com/')\n",
        "  return table_MN[0]\n",
        "\n",
        "def getBuyingOp():\n",
        "  table_MN = pd.read_html('https://www.asicminervalue.com/opportunities')\n",
        "  \n",
        "  return table_MN[0]"
      ],
      "metadata": {
        "id": "-sxGhGj8yKx_"
      },
      "execution_count": 10,
      "outputs": []
    },
    {
      "cell_type": "markdown",
      "source": [
        "# Get Miners"
      ],
      "metadata": {
        "id": "CPPLw2LbyxQd"
      }
    },
    {
      "cell_type": "code",
      "source": [
        "getMiners()"
      ],
      "metadata": {
        "id": "Ph9rJFNJyLPe"
      },
      "execution_count": null,
      "outputs": []
    },
    {
      "cell_type": "code",
      "source": [
        "getBuyingOp()"
      ],
      "metadata": {
        "colab": {
          "base_uri": "https://localhost:8080/",
          "height": 403
        },
        "id": "lKPbAJr1yX6u",
        "outputId": "54873837-97a0-465a-c388-661416596ccd"
      },
      "execution_count": 11,
      "outputs": [
        {
          "output_type": "execute_result",
          "data": {
            "text/html": [
              "\n",
              "  <div id=\"df-8e79fadd-7064-489a-b00d-d4e30ef653a9\">\n",
              "    <div class=\"colab-df-container\">\n",
              "      <div>\n",
              "<style scoped>\n",
              "    .dataframe tbody tr th:only-of-type {\n",
              "        vertical-align: middle;\n",
              "    }\n",
              "\n",
              "    .dataframe tbody tr th {\n",
              "        vertical-align: top;\n",
              "    }\n",
              "\n",
              "    .dataframe thead th {\n",
              "        text-align: right;\n",
              "    }\n",
              "</style>\n",
              "<table border=\"1\" class=\"dataframe\">\n",
              "  <thead>\n",
              "    <tr style=\"text-align: right;\">\n",
              "      <th></th>\n",
              "      <th>Date</th>\n",
              "      <th>Store</th>\n",
              "      <th>Unnamed: 2</th>\n",
              "      <th>Product</th>\n",
              "      <th>Price</th>\n",
              "      <th>Delivery</th>\n",
              "      <th>ROI</th>\n",
              "      <th>Risk</th>\n",
              "      <th>Unnamed: 8</th>\n",
              "    </tr>\n",
              "  </thead>\n",
              "  <tbody>\n",
              "    <tr>\n",
              "      <th>0</th>\n",
              "      <td>11/08/21</td>\n",
              "      <td>NaN</td>\n",
              "      <td>BT-MinersTrusted vendor</td>\n",
              "      <td>Antminer L7 (9.16Gh)Bitmain</td>\n",
              "      <td>BT-Miners$23,999.00Pre-order</td>\n",
              "      <td>Pre-order(Jan 2022)</td>\n",
              "      <td>472 days15.7 mo.</td>\n",
              "      <td>Tested</td>\n",
              "      <td>NaN</td>\n",
              "    </tr>\n",
              "    <tr>\n",
              "      <th>1</th>\n",
              "      <td>23/06/21</td>\n",
              "      <td>NaN</td>\n",
              "      <td>AKMinerTrusted vendor</td>\n",
              "      <td>Antminer L7 (9.16Gh)Bitmain</td>\n",
              "      <td>AKMiner$24,459.00Free shippingPre-order</td>\n",
              "      <td>Pre-order(Dec 2021)</td>\n",
              "      <td>473 days15.7 mo.</td>\n",
              "      <td>Tested</td>\n",
              "      <td>NaN</td>\n",
              "    </tr>\n",
              "    <tr>\n",
              "      <th>2</th>\n",
              "      <td>23/09/21</td>\n",
              "      <td>NaN</td>\n",
              "      <td>AsicMinerMarketTrusted vendor</td>\n",
              "      <td>Antminer L7 (9.16Gh)Bitmain</td>\n",
              "      <td>AsicMinerMarket$24,500.00Free shippingPre-order</td>\n",
              "      <td>Pre-order(Dec 2021)</td>\n",
              "      <td>474 days15.8 mo.</td>\n",
              "      <td>Tested</td>\n",
              "      <td>NaN</td>\n",
              "    </tr>\n",
              "    <tr>\n",
              "      <th>3</th>\n",
              "      <td>08/11/21</td>\n",
              "      <td>NaN</td>\n",
              "      <td>Mining Store 5111Trusted vendor</td>\n",
              "      <td>Antminer D7 (1286Gh)Bitmain</td>\n",
              "      <td>Mining Store 5111$9,699.00Free shippingIn stock</td>\n",
              "      <td>In stock</td>\n",
              "      <td>501 days16.7 mo.</td>\n",
              "      <td>Tested</td>\n",
              "      <td>NaN</td>\n",
              "    </tr>\n",
              "    <tr>\n",
              "      <th>4</th>\n",
              "      <td>21/12/21</td>\n",
              "      <td>NaN</td>\n",
              "      <td>MillionMinerTrusted vendor</td>\n",
              "      <td>Antminer L7 (9.16Gh)Bitmain</td>\n",
              "      <td>MillionMiner$26,542.97(€23,450.00)Free shippin...</td>\n",
              "      <td>Pre-order(Dec 2021)</td>\n",
              "      <td>513 days17.1 mo.</td>\n",
              "      <td>Tested</td>\n",
              "      <td>NaN</td>\n",
              "    </tr>\n",
              "    <tr>\n",
              "      <th>...</th>\n",
              "      <td>...</td>\n",
              "      <td>...</td>\n",
              "      <td>...</td>\n",
              "      <td>...</td>\n",
              "      <td>...</td>\n",
              "      <td>...</td>\n",
              "      <td>...</td>\n",
              "      <td>...</td>\n",
              "      <td>...</td>\n",
              "    </tr>\n",
              "    <tr>\n",
              "      <th>93</th>\n",
              "      <td>13/11/21</td>\n",
              "      <td>NaN</td>\n",
              "      <td>AsicMinerMarketTrusted vendor</td>\n",
              "      <td>Antminer S19 XP (140Th)Bitmain</td>\n",
              "      <td>AsicMinerMarket$14,000.00Pre-order</td>\n",
              "      <td>Pre-order(Jul 2022)</td>\n",
              "      <td>989 days32.9 mo.</td>\n",
              "      <td>Tested</td>\n",
              "      <td>NaN</td>\n",
              "    </tr>\n",
              "    <tr>\n",
              "      <th>94</th>\n",
              "      <td>10/01/22</td>\n",
              "      <td>NaN</td>\n",
              "      <td>Print CryptoTrusted vendor</td>\n",
              "      <td>Antminer S19 XP (140Th)Bitmain</td>\n",
              "      <td>Print Crypto$13,990.00Pre-order</td>\n",
              "      <td>Pre-order(Jul 2022)</td>\n",
              "      <td>990 days33 mo.</td>\n",
              "      <td>Tested</td>\n",
              "      <td>NaN</td>\n",
              "    </tr>\n",
              "    <tr>\n",
              "      <th>95</th>\n",
              "      <td>07/11/21</td>\n",
              "      <td>NaN</td>\n",
              "      <td>Mining Store 5111Trusted vendor</td>\n",
              "      <td>Antminer S19 (95Th)Bitmain</td>\n",
              "      <td>Mining Store 5111$8,299.00Free shippingIn stock</td>\n",
              "      <td>In stock</td>\n",
              "      <td>991 days33 mo.</td>\n",
              "      <td>Tested</td>\n",
              "      <td>NaN</td>\n",
              "    </tr>\n",
              "    <tr>\n",
              "      <th>96</th>\n",
              "      <td>29/07/21</td>\n",
              "      <td>NaN</td>\n",
              "      <td>Miner BrosTrusted vendor</td>\n",
              "      <td>Antminer Z15Bitmain</td>\n",
              "      <td>Miner Bros$11,499.00Free shippingIn stock</td>\n",
              "      <td>In stock</td>\n",
              "      <td>995 days33.1 mo.</td>\n",
              "      <td>Tested</td>\n",
              "      <td>NaN</td>\n",
              "    </tr>\n",
              "    <tr>\n",
              "      <th>97</th>\n",
              "      <td>22/08/21</td>\n",
              "      <td>NaN</td>\n",
              "      <td>BT-MinersTrusted vendor</td>\n",
              "      <td>LT5 ProGoldshell</td>\n",
              "      <td>BT-Miners$7,500.00Used</td>\n",
              "      <td>Used</td>\n",
              "      <td>996 days33.2 mo.</td>\n",
              "      <td>Tested</td>\n",
              "      <td>NaN</td>\n",
              "    </tr>\n",
              "  </tbody>\n",
              "</table>\n",
              "<p>98 rows × 9 columns</p>\n",
              "</div>\n",
              "      <button class=\"colab-df-convert\" onclick=\"convertToInteractive('df-8e79fadd-7064-489a-b00d-d4e30ef653a9')\"\n",
              "              title=\"Convert this dataframe to an interactive table.\"\n",
              "              style=\"display:none;\">\n",
              "        \n",
              "  <svg xmlns=\"http://www.w3.org/2000/svg\" height=\"24px\"viewBox=\"0 0 24 24\"\n",
              "       width=\"24px\">\n",
              "    <path d=\"M0 0h24v24H0V0z\" fill=\"none\"/>\n",
              "    <path d=\"M18.56 5.44l.94 2.06.94-2.06 2.06-.94-2.06-.94-.94-2.06-.94 2.06-2.06.94zm-11 1L8.5 8.5l.94-2.06 2.06-.94-2.06-.94L8.5 2.5l-.94 2.06-2.06.94zm10 10l.94 2.06.94-2.06 2.06-.94-2.06-.94-.94-2.06-.94 2.06-2.06.94z\"/><path d=\"M17.41 7.96l-1.37-1.37c-.4-.4-.92-.59-1.43-.59-.52 0-1.04.2-1.43.59L10.3 9.45l-7.72 7.72c-.78.78-.78 2.05 0 2.83L4 21.41c.39.39.9.59 1.41.59.51 0 1.02-.2 1.41-.59l7.78-7.78 2.81-2.81c.8-.78.8-2.07 0-2.86zM5.41 20L4 18.59l7.72-7.72 1.47 1.35L5.41 20z\"/>\n",
              "  </svg>\n",
              "      </button>\n",
              "      \n",
              "  <style>\n",
              "    .colab-df-container {\n",
              "      display:flex;\n",
              "      flex-wrap:wrap;\n",
              "      gap: 12px;\n",
              "    }\n",
              "\n",
              "    .colab-df-convert {\n",
              "      background-color: #E8F0FE;\n",
              "      border: none;\n",
              "      border-radius: 50%;\n",
              "      cursor: pointer;\n",
              "      display: none;\n",
              "      fill: #1967D2;\n",
              "      height: 32px;\n",
              "      padding: 0 0 0 0;\n",
              "      width: 32px;\n",
              "    }\n",
              "\n",
              "    .colab-df-convert:hover {\n",
              "      background-color: #E2EBFA;\n",
              "      box-shadow: 0px 1px 2px rgba(60, 64, 67, 0.3), 0px 1px 3px 1px rgba(60, 64, 67, 0.15);\n",
              "      fill: #174EA6;\n",
              "    }\n",
              "\n",
              "    [theme=dark] .colab-df-convert {\n",
              "      background-color: #3B4455;\n",
              "      fill: #D2E3FC;\n",
              "    }\n",
              "\n",
              "    [theme=dark] .colab-df-convert:hover {\n",
              "      background-color: #434B5C;\n",
              "      box-shadow: 0px 1px 3px 1px rgba(0, 0, 0, 0.15);\n",
              "      filter: drop-shadow(0px 1px 2px rgba(0, 0, 0, 0.3));\n",
              "      fill: #FFFFFF;\n",
              "    }\n",
              "  </style>\n",
              "\n",
              "      <script>\n",
              "        const buttonEl =\n",
              "          document.querySelector('#df-8e79fadd-7064-489a-b00d-d4e30ef653a9 button.colab-df-convert');\n",
              "        buttonEl.style.display =\n",
              "          google.colab.kernel.accessAllowed ? 'block' : 'none';\n",
              "\n",
              "        async function convertToInteractive(key) {\n",
              "          const element = document.querySelector('#df-8e79fadd-7064-489a-b00d-d4e30ef653a9');\n",
              "          const dataTable =\n",
              "            await google.colab.kernel.invokeFunction('convertToInteractive',\n",
              "                                                     [key], {});\n",
              "          if (!dataTable) return;\n",
              "\n",
              "          const docLinkHtml = 'Like what you see? Visit the ' +\n",
              "            '<a target=\"_blank\" href=https://colab.research.google.com/notebooks/data_table.ipynb>data table notebook</a>'\n",
              "            + ' to learn more about interactive tables.';\n",
              "          element.innerHTML = '';\n",
              "          dataTable['output_type'] = 'display_data';\n",
              "          await google.colab.output.renderOutput(dataTable, element);\n",
              "          const docLink = document.createElement('div');\n",
              "          docLink.innerHTML = docLinkHtml;\n",
              "          element.appendChild(docLink);\n",
              "        }\n",
              "      </script>\n",
              "    </div>\n",
              "  </div>\n",
              "  "
            ],
            "text/plain": [
              "        Date  Store  ...    Risk Unnamed: 8\n",
              "0   11/08/21    NaN  ...  Tested        NaN\n",
              "1   23/06/21    NaN  ...  Tested        NaN\n",
              "2   23/09/21    NaN  ...  Tested        NaN\n",
              "3   08/11/21    NaN  ...  Tested        NaN\n",
              "4   21/12/21    NaN  ...  Tested        NaN\n",
              "..       ...    ...  ...     ...        ...\n",
              "93  13/11/21    NaN  ...  Tested        NaN\n",
              "94  10/01/22    NaN  ...  Tested        NaN\n",
              "95  07/11/21    NaN  ...  Tested        NaN\n",
              "96  29/07/21    NaN  ...  Tested        NaN\n",
              "97  22/08/21    NaN  ...  Tested        NaN\n",
              "\n",
              "[98 rows x 9 columns]"
            ]
          },
          "metadata": {},
          "execution_count": 11
        }
      ]
    },
    {
      "cell_type": "code",
      "source": [
        ""
      ],
      "metadata": {
        "id": "GwxqNSCBzikm"
      },
      "execution_count": null,
      "outputs": []
    }
  ]
}